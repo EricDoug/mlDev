{
 "cells": [
  {
   "cell_type": "markdown",
   "metadata": {},
   "source": [
    "# 决策树\n",
    "\n",
    "## 熵\n",
    "\n",
    "$$H(x) = - \\sum_i p_i ln p_i$$\n",
    "\n",
    "其中, $log_2$是bit，$log_e$是NAT。\n",
    "\n",
    "### 条件熵 \n",
    "\n",
    "$H(X,Y) - H(X)$\n",
    "\n",
    "$(X,Y)$发生所包含的熵，减去$X$单独发生包含的熵；在$X$发生的前提下，$Y$发生\"新\"带来的熵。\n",
    "\n",
    "$H(Y|X)$表示在$X$发生前提下,$Y$的熵。\n",
    "\n",
    "#### 条件熵推导\n",
    "\n",
    "$$H(X,Y)-H(X) = -\\sum_{x,y}p(x,y)log{p(x,y)} - (-\\sum_x p(x) log{p(x)})$$\n",
    "$$= -\\sum_{x,y}p(x,y)log{p(x,y)} + \\sum_{x}(\\sum_y p(x,y))logp(x)$$\n",
    "$$=-\\sum_{x,y}p(x,y)log{p(x,y)} + \\sum_{x,y}p(x,y)log p(x)$$\n",
    "$$=-\\sum{x,y}p(x,y)log{\\frac{p(x,y)}{p(x)}}$$\n",
    "$$=-\\sum_{x,y}p(x,y)log{p(y|x)}$$\n"
   ]
  },
  {
   "cell_type": "code",
   "execution_count": null,
   "metadata": {
    "collapsed": true
   },
   "outputs": [],
   "source": []
  }
 ],
 "metadata": {
  "kernelspec": {
   "display_name": "Python 2",
   "language": "python",
   "name": "python2"
  },
  "language_info": {
   "codemirror_mode": {
    "name": "ipython",
    "version": 2
   },
   "file_extension": ".py",
   "mimetype": "text/x-python",
   "name": "python",
   "nbconvert_exporter": "python",
   "pygments_lexer": "ipython2",
   "version": "2.7.11"
  }
 },
 "nbformat": 4,
 "nbformat_minor": 0
}
