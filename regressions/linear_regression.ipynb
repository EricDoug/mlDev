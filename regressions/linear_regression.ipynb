{
 "cells": [
  {
   "cell_type": "markdown",
   "metadata": {},
   "source": [
    "# 线性回归\n",
    "\n",
    "**引例**\n",
    "\n",
    "$$y = ax + b$$\n",
    "\n",
    "## 1 高斯分布\n",
    "\n",
    "$$y^{(i)} = \\theta^{T}x^{(i)} + \\xi^{(i)}$$\n",
    "\n",
    "误差$\\xi^{(i)}(1 \\leq i \\leq m)$是独立同分布的，服从均值为0,方差为某定值$\\sigma^2$的高斯分布。\n",
    "\n",
    "**原因:** `中心极限定理`\n",
    "\n",
    "## 2 最大似然估计MLE\n",
    "\n",
    "## 3 最小二乘法的本质"
   ]
  },
  {
   "cell_type": "code",
   "execution_count": null,
   "metadata": {
    "collapsed": true
   },
   "outputs": [],
   "source": []
  }
 ],
 "metadata": {
  "kernelspec": {
   "display_name": "Python 2",
   "language": "python",
   "name": "python2"
  },
  "language_info": {
   "codemirror_mode": {
    "name": "ipython",
    "version": 2
   },
   "file_extension": ".py",
   "mimetype": "text/x-python",
   "name": "python",
   "nbconvert_exporter": "python",
   "pygments_lexer": "ipython2",
   "version": "2.7.11"
  }
 },
 "nbformat": 4,
 "nbformat_minor": 0
}
